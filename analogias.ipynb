{
  "cells": [
    {
      "cell_type": "markdown",
      "metadata": {
        "id": "WQBCUXEw_9du"
      },
      "source": [
        "# Preparación"
      ]
    },
    {
      "cell_type": "code",
      "execution_count": null,
      "metadata": {
        "colab": {
          "base_uri": "https://localhost:8080/"
        },
        "id": "h0I7fj2MNEOx",
        "outputId": "371bd9c7-2686-4690-a60b-9f28844b3d8e"
      },
      "outputs": [],
      "source": [
        "#Descargar el modelo pre entrenado\n",
        "!wget https://storage.googleapis.com/javadist-bigram-mr/vectors.vec"
      ]
    },
    {
      "cell_type": "code",
      "execution_count": null,
      "metadata": {
        "colab": {
          "base_uri": "https://localhost:8080/"
        },
        "id": "RBp695DYrTpC",
        "outputId": "58e1500d-66f1-4b4c-b4c2-db79eff91277"
      },
      "outputs": [],
      "source": [
        "from google.colab import drive\n",
        "drive.mount('/content/drive')"
      ]
    },
    {
      "cell_type": "code",
      "execution_count": null,
      "metadata": {
        "id": "yO3SFM8Cq7AX"
      },
      "outputs": [],
      "source": [
        "!mv vectors.vec vectors.bin.gz"
      ]
    },
    {
      "cell_type": "code",
      "execution_count": null,
      "metadata": {
        "id": "FjpLhYG5N8Q8"
      },
      "outputs": [],
      "source": [
        "import os\n",
        "import matplotlib.pyplot as plt\n",
        "import numpy as np\n",
        "import csv\n",
        "import sys\n",
        "\n",
        "from gensim.models import KeyedVectors\n",
        "WORD_EMBEDDINGS = '/content/vectors.bin.gz'\n",
        "if not os.path.exists(WORD_EMBEDDINGS):\n",
        "    raise ValueError(\"SKIP: You need to download the google news model\")\n",
        "    \n",
        "model = KeyedVectors.load_word2vec_format(WORD_EMBEDDINGS, binary=True)"
      ]
    },
    {
      "cell_type": "markdown",
      "metadata": {
        "id": "3F7CZtCJNVcQ"
      },
      "source": [
        "# Responder analogías"
      ]
    },
    {
      "cell_type": "code",
      "execution_count": null,
      "metadata": {
        "id": "NOSW4LQhNXDh"
      },
      "outputs": [],
      "source": [
        "def sublist(lst1, lst2):\n",
        "    return set(lst1) <= set(lst2)\n",
        "\n",
        "def get_word_embedding(word):\n",
        "  try:\n",
        "    return model[word]\n",
        "  except:\n",
        "    return np.ones((300,)) * 0.0000001\n",
        "\n",
        "def euclidean(vec1:np.array, vec2:np.array) -> float:\n",
        "    return np.sqrt(np.sum((vec1 - vec2)**2))\n",
        "\n",
        "# El archivo debe ser subido a la plataforma\n",
        "with open(\"analogias_dataset_1.csv\", mode='r') as archivo:\n",
        "  csvFile = csv.reader(archivo)\n",
        "  next(csvFile, None) # saltarse la cabecera\n",
        "  for numAnalogia, line in enumerate(csvFile):\n",
        "        for i,word in enumerate(line):\n",
        "          line[i] = word.strip()\n",
        "        \n",
        "        Tipo, A, B, C, OptCorrecta, *Opciones = line\n",
        "        valorAnalogia = get_word_embedding(A) - get_word_embedding(B) + get_word_embedding(C)\n",
        "        opcionMasCercana = \"\"\n",
        "        diferenciaActual = sys.float_info.max\n",
        "\n",
        "        for opcion in Opciones:\n",
        "          diferencia = euclidean(valorAnalogia,get_word_embedding(opcion))\n",
        "          if diferencia < diferenciaActual:\n",
        "            diferenciaActual = diferencia\n",
        "            opcionMasCercana = opcion\n",
        "\n",
        "        if (opcionMasCercana == OptCorrecta):\n",
        "          print(f\"La respuesta a la analogía #{numAnalogia+1} fue correcta\")\n",
        "        else:\n",
        "          print(f\"La respuesta a la analogía #{numAnalogia+1} fue incorrecta\")\n"
      ]
    }
  ],
  "metadata": {
    "colab": {
      "collapsed_sections": [
        "9RUTciYvy4Qe"
      ],
      "name": "analogias",
      "provenance": []
    },
    "kernelspec": {
      "display_name": "Python 3",
      "name": "python3"
    }
  },
  "nbformat": 4,
  "nbformat_minor": 0
}
